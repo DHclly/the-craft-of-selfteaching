{
 "cells": [
  {
   "cell_type": "markdown",
   "metadata": {},
   "source": [
    "python 教程\n",
    "\n",
    "学习时间：2025年3月16日11:19:18\n",
    "\n",
    "学习视频地址：[20分钟快速入门 Python_哔哩哔哩_bilibili(https://www.bilibili.com/video/BV1Fq4y1o7ye/?spm_id_from=333.1387.homepage.video_card.click&vd_source=0fe947718dfceaee22114dfd27dc29a4)](https://www.bilibili.com/video/BV1Fq4y1o7ye/?spm_id_from=333.1387.homepage.video_card.click&vd_source=0fe947718dfceaee22114dfd27dc29a4)\n",
    "\n",
    "GitHub 代码仓库地址：\n",
    "[python_tutorial/README.md at main · kongfanhe/python_tutorial(https://github.com/kongfanhe/python_tutorial/blob/main/README.md)](https://github.com/kongfanhe/python_tutorial/blob/main/README.md)"
   ]
  },
  {
   "cell_type": "markdown",
   "metadata": {},
   "source": [
    "# Hello World"
   ]
  },
  {
   "cell_type": "code",
   "execution_count": 2,
   "metadata": {},
   "outputs": [
    {
     "name": "stdout",
     "output_type": "stream",
     "text": [
      "hello world\n"
     ]
    }
   ],
   "source": [
    "print(\"hello world\")"
   ]
  },
  {
   "cell_type": "markdown",
   "metadata": {},
   "source": [
    "# 变量"
   ]
  },
  {
   "cell_type": "code",
   "execution_count": 3,
   "metadata": {},
   "outputs": [
    {
     "name": "stdout",
     "output_type": "stream",
     "text": [
      "hello True 20 6.3\n",
      "he\n",
      "<class 'str'> <class 'bool'> <class 'int'> <class 'float'>\n",
      "3.0 <class 'float'>\n",
      "6\n",
      "1 2\n",
      "1\n",
      "{'a': 100, 'b': 2, 'c': 'hello'}\n"
     ]
    }
   ],
   "source": [
    "name = \"hello\"\n",
    "online = True\n",
    "age = 20\n",
    "price = 6.3\n",
    "print(name, online, age, price)\n",
    "print(name[0:2])\n",
    "print(type(name), type(online), type(age), type(price))\n",
    "\n",
    "new_price = float(\"3\")\n",
    "print(new_price, type(new_price))\n",
    "\n",
    "array = [1, 2, 3, 4, 5, 6]\n",
    "print(len(array))\n",
    "print(array[0], array[1])\n",
    "\n",
    "my_dict = {\"a\": 1, \"b\": 2, \"c\": \"hello\"}\n",
    "print(my_dict[\"a\"])\n",
    "my_dict[\"a\"] = 100\n",
    "print(my_dict)"
   ]
  },
  {
   "cell_type": "markdown",
   "metadata": {},
   "source": [
    "# if else 分支语句"
   ]
  },
  {
   "cell_type": "code",
   "execution_count": 4,
   "metadata": {},
   "outputs": [
    {
     "name": "stdout",
     "output_type": "stream",
     "text": [
      "good bye\n",
      "old\n"
     ]
    }
   ],
   "source": [
    "online = False\n",
    "if online:\n",
    "    print(\"hello\")\n",
    "else:\n",
    "    print(\"good bye\")\n",
    "\n",
    "age = 66\n",
    "if age < 35:\n",
    "    print(\"young\")\n",
    "elif age < 65:\n",
    "    print(\"middle\")\n",
    "else:\n",
    "    print(\"old\")"
   ]
  },
  {
   "cell_type": "markdown",
   "metadata": {},
   "source": [
    "# for while 循环语句"
   ]
  },
  {
   "cell_type": "code",
   "execution_count": 5,
   "metadata": {},
   "outputs": [
    {
     "name": "stdout",
     "output_type": "stream",
     "text": [
      "1\n",
      "3\n",
      "5\n",
      "7\n",
      "9\n",
      "0 1\n",
      "1 3\n",
      "2 5\n",
      "3 7\n",
      "4 9\n",
      "100\n",
      "99\n",
      "98\n",
      "97\n",
      "96\n",
      "95\n",
      "94\n",
      "93\n",
      "92\n",
      "91\n",
      "90\n",
      "89\n",
      "88\n",
      "87\n",
      "86\n",
      "85\n",
      "84\n",
      "83\n",
      "82\n",
      "81\n",
      "80\n",
      "79\n",
      "78\n",
      "77\n",
      "76\n",
      "75\n",
      "74\n",
      "73\n",
      "72\n",
      "71\n",
      "70\n",
      "69\n",
      "68\n",
      "67\n",
      "66\n",
      "65\n",
      "64\n",
      "63\n",
      "62\n",
      "61\n",
      "60\n",
      "59\n",
      "58\n",
      "57\n",
      "56\n",
      "55\n",
      "54\n",
      "53\n",
      "52\n",
      "51\n",
      "50\n",
      "49\n",
      "48\n",
      "47\n",
      "46\n",
      "45\n",
      "44\n",
      "43\n",
      "42\n",
      "41\n",
      "40\n",
      "39\n",
      "38\n",
      "37\n",
      "36\n",
      "35\n",
      "34\n",
      "33\n",
      "32\n",
      "31\n",
      "30\n",
      "29\n",
      "28\n",
      "27\n",
      "26\n",
      "25\n",
      "24\n",
      "23\n",
      "22\n",
      "21\n",
      "20\n",
      "19\n",
      "18\n",
      "17\n",
      "16\n",
      "15\n",
      "14\n",
      "13\n",
      "12\n",
      "11\n"
     ]
    }
   ],
   "source": [
    "array = [1, 3, 5, 7, 9]\n",
    "for x in array:\n",
    "    print(x)\n",
    "for (i, x) in enumerate(array):\n",
    "    print(i, x)\n",
    "\n",
    "counter = 100\n",
    "while counter > 10:\n",
    "    print(counter)\n",
    "    counter = counter - 1"
   ]
  },
  {
   "cell_type": "markdown",
   "metadata": {},
   "source": [
    "# function 方法/函数"
   ]
  },
  {
   "cell_type": "code",
   "execution_count": 6,
   "metadata": {},
   "outputs": [
    {
     "name": "stdout",
     "output_type": "stream",
     "text": [
      "25\n",
      "peter\n",
      "frank\n",
      "peter\n"
     ]
    }
   ],
   "source": [
    "def sum_values(values):\n",
    "    s = 0\n",
    "    for v in values:\n",
    "        s = s + v\n",
    "    return s\n",
    "\n",
    "\n",
    "array = [1, 3, 5, 7, 9]\n",
    "print(sum_values(array))\n",
    "\n",
    "\n",
    "def show_name(name=\"frank\"):\n",
    "    print(name)\n",
    "\n",
    "\n",
    "show_name(\"peter\")\n",
    "show_name()\n",
    "show_name(name=\"peter\")"
   ]
  },
  {
   "cell_type": "markdown",
   "metadata": {},
   "source": [
    "# import 导入包"
   ]
  },
  {
   "cell_type": "code",
   "execution_count": 7,
   "metadata": {},
   "outputs": [
    {
     "name": "stdout",
     "output_type": "stream",
     "text": [
      "start\n",
      "finish\n",
      "b'<!doctype html>\\n<html>\\n<head>\\n    <title>Example Domain</title>\\n\\n    <meta charset=\"utf-8\" />\\n    <meta http-equiv=\"Content-type\" content=\"text/html; charset=utf-8\" />\\n    <meta name=\"viewport\" content=\"width=device-width, initial-scale=1\" />\\n    <style type=\"text/css\">\\n    body {\\n        background-color: #f0f0f2;\\n        margin: 0;\\n        padding: 0;\\n        font-family: -apple-system, system-ui, BlinkMacSystemFont, \"Segoe UI\", \"Open Sans\", \"Helvetica Neue\", Helvetica, Arial, sans-serif;\\n        \\n    }\\n    div {\\n        width: 600px;\\n        margin: 5em auto;\\n        padding: 2em;\\n        background-color: #fdfdff;\\n        border-radius: 0.5em;\\n        box-shadow: 2px 3px 7px 2px rgba(0,0,0,0.02);\\n    }\\n    a:link, a:visited {\\n        color: #38488f;\\n        text-decoration: none;\\n    }\\n    @media (max-width: 700px) {\\n        div {\\n            margin: 0 auto;\\n            width: auto;\\n        }\\n    }\\n    </style>    \\n</head>\\n\\n<body>\\n<div>\\n    <h1>Example Domain</h1>\\n    <p>This domain is for use in illustrative examples in documents. You may use this\\n    domain in literature without prior coordination or asking for permission.</p>\\n    <p><a href=\"https://www.iana.org/domains/example\">More information...</a></p>\\n</div>\\n</body>\\n</html>\\n'\n"
     ]
    }
   ],
   "source": [
    "import time\n",
    "import requests\n",
    "\n",
    "print(\"start\")\n",
    "time.sleep(2)\n",
    "print(\"finish\")\n",
    "\n",
    "response = requests.get(\"http://www.example.com\")\n",
    "print(response.content)"
   ]
  }
 ],
 "metadata": {
  "kernelspec": {
   "display_name": "base",
   "language": "python",
   "name": "python3"
  },
  "language_info": {
   "codemirror_mode": {
    "name": "ipython",
    "version": 3
   },
   "file_extension": ".py",
   "mimetype": "text/x-python",
   "name": "python",
   "nbconvert_exporter": "python",
   "pygments_lexer": "ipython3",
   "version": "3.11.7"
  }
 },
 "nbformat": 4,
 "nbformat_minor": 2
}
